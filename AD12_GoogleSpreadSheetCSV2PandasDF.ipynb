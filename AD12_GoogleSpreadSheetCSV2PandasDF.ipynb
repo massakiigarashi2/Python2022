{
  "nbformat": 4,
  "nbformat_minor": 0,
  "metadata": {
    "colab": {
      "name": "AD12_GoogleSpreadSheetCSV2PandasDF.ipynb",
      "private_outputs": true,
      "provenance": [],
      "authorship_tag": "ABX9TyO1IPl20biNvktriuxiELP2",
      "include_colab_link": true
    },
    "kernelspec": {
      "name": "python3",
      "display_name": "Python 3"
    },
    "language_info": {
      "name": "python"
    }
  },
  "cells": [
    {
      "cell_type": "markdown",
      "metadata": {
        "id": "view-in-github",
        "colab_type": "text"
      },
      "source": [
        "<a href=\"https://colab.research.google.com/github/massakiigarashi2/Python2022/blob/main/AD12_GoogleSpreadSheetCSV2PandasDF.ipynb\" target=\"_parent\"><img src=\"https://colab.research.google.com/assets/colab-badge.svg\" alt=\"Open In Colab\"/></a>"
      ]
    },
    {
      "cell_type": "markdown",
      "source": [
        "### **OBJETIVO DA AULA:**\n",
        "Nesta aula aprenderemos a importar os dados das respostas de um Google Forms\n",
        "A partir da planilha de repostas gerada (Google SpreadSheet CSV)\n"
      ],
      "metadata": {
        "id": "4AQhW_uar1i0"
      }
    },
    {
      "cell_type": "markdown",
      "source": [
        "### Link das respostas Evento MackRede 13/abr/22\n",
        "\n",
        "https://docs.google.com/spreadsheets/d/e/2PACX-1vR0IgfLCiAnnWqcgQTx1xz96FcSFUMDEHD-aWHT2DA-5Lfh9QfZYZbcYwqAhrVKRSrV3D7moFA8Hqka/pub?gid=980421081&single=true&output=csv\n",
        "\n",
        "OBS: Para gerar o link você precisa, após gerar a planilha:\n",
        "*   Clicar em Compartilhar\n",
        "*   Clicar em Publicar na Web\n",
        "*   Respostas ao Formulário\n",
        "*   Valores separados por vírgulas (.csv)\n",
        "\n",
        "\n"
      ],
      "metadata": {
        "id": "7tp5HbMqnocv"
      }
    },
    {
      "cell_type": "markdown",
      "source": [
        "01) Para esta aula precisaremos das seguintes bibliotecas:\n",
        "\n",
        "\n",
        "*   BytesIO\n",
        "*   Requests\n",
        "*   Pandas (Para manipular a base de dados)\n",
        "\n"
      ],
      "metadata": {
        "id": "WhMlTXgUtOiz"
      }
    },
    {
      "cell_type": "code",
      "source": [
        "from io import BytesIO\n",
        "\n",
        "import requests\n",
        "import pandas as pd\n",
        "\n",
        "r = requests.get('https://docs.google.com/spreadsheets/d/e/2PACX-1vR0IgfLCiAnnWqcgQTx1xz96FcSFUMDEHD-aWHT2DA-5Lfh9QfZYZbcYwqAhrVKRSrV3D7moFA8Hqka/pub?gid=980421081&single=true&output=csv')\n",
        "data = r.content"
      ],
      "metadata": {
        "id": "ov5ddt9WnvS-"
      },
      "execution_count": null,
      "outputs": []
    },
    {
      "cell_type": "code",
      "source": [
        "df = pd.read_csv(BytesIO(data), index_col=0)\n",
        "df.head()"
      ],
      "metadata": {
        "id": "vbGxNHXtoHyi"
      },
      "execution_count": null,
      "outputs": []
    },
    {
      "cell_type": "code",
      "source": [
        "for col in df.columns:\n",
        "    print(col)"
      ],
      "metadata": {
        "id": "J1aP_r_3pKPy"
      },
      "execution_count": null,
      "outputs": []
    },
    {
      "cell_type": "code",
      "source": [
        "df.columns = ['email', 'Nome', 'NotaMiniCursos', 'NotaOrganizacao', 'Sugestao']\n",
        "for col in df.columns:\n",
        "    print(col)"
      ],
      "metadata": {
        "id": "5pzTVkk2ppSc"
      },
      "execution_count": null,
      "outputs": []
    },
    {
      "cell_type": "code",
      "source": [
        "df['email']"
      ],
      "metadata": {
        "id": "944ZA3pQqAQL"
      },
      "execution_count": null,
      "outputs": []
    },
    {
      "cell_type": "code",
      "source": [
        "df['email'][0]"
      ],
      "metadata": {
        "id": "YaWkw_2OrDs2"
      },
      "execution_count": null,
      "outputs": []
    },
    {
      "cell_type": "code",
      "source": [
        "nREGISTROS = len(df)\n",
        "nREGISTROS"
      ],
      "metadata": {
        "id": "R_LCFSDYM1yo"
      },
      "execution_count": null,
      "outputs": []
    },
    {
      "cell_type": "code",
      "source": [
        "df1 = df['NotaMiniCursos'].value_counts()\n",
        "nPromotores = float(df1[9]) + float(df1[10])\n",
        "nPromotores\n",
        "PorcentagemPromotoes = nPromotores/nREGISTROS\n",
        "PorcentagemPromotoes"
      ],
      "metadata": {
        "id": "lAGuO0m9KEzf"
      },
      "execution_count": null,
      "outputs": []
    },
    {
      "cell_type": "code",
      "source": [
        "counts = df['NotaMiniCursos'].value_counts().to_dict()\n",
        "print(counts)"
      ],
      "metadata": {
        "id": "YTtppiTPL2GQ"
      },
      "execution_count": null,
      "outputs": []
    },
    {
      "cell_type": "code",
      "source": [
        "counts[9]"
      ],
      "metadata": {
        "id": "PzyfysaML_DW"
      },
      "execution_count": null,
      "outputs": []
    },
    {
      "cell_type": "code",
      "source": [
        "# Count frequency value using GroupBy.size()\n",
        "df1 = df.groupby(['NotaMiniCursos']).size()\n",
        "print(df1)"
      ],
      "metadata": {
        "id": "sWoIONQjBKcu"
      },
      "execution_count": null,
      "outputs": []
    },
    {
      "cell_type": "code",
      "source": [
        "nDetratores = 0\n",
        "PorcentagemDetratores = nDetratores/nREGISTROS\n",
        "\n",
        "nPromotores = float(df1[9]) + float(df1[10])\n",
        "nPromotores\n",
        "PorcentagemPromotoes = nPromotores/nREGISTROS\n",
        "PorcentagemPromotoes\n",
        "NPS = (PorcentagemPromotoes - PorcentagemDetratores)*100\n",
        "NPS"
      ],
      "metadata": {
        "id": "Eo8E_1P4BRYv"
      },
      "execution_count": null,
      "outputs": []
    },
    {
      "cell_type": "markdown",
      "source": [
        "# Se -100 < NPS <=  0: Zona Crítica\n",
        "# Se    0 < NPS <= 50: Zona de Aperfeiçoamento\n",
        "# Se   50 < NPS <= 75: Zona de Qualidade\n",
        "# Se   75 < NPS <=100: Zona de Excelência"
      ],
      "metadata": {
        "id": "284QmcG5EbXW"
      }
    },
    {
      "cell_type": "code",
      "source": [
        "if (-100 < NPS and NPS <=  0): \n",
        "  print(\"Zona Crítica\")\n",
        "if (0 < NPS and NPS <= 50): \n",
        "  print(\"Zona de Aperfeiçoamento\")\n",
        "if (50 < NPS and NPS <= 75):\n",
        "  print(\"Zona de Qualidade\")\n",
        "if (75 < NPS and NPS<=100): \n",
        "  print(\"Zona de Excelência\")"
      ],
      "metadata": {
        "id": "khbaC6WtEZ5r"
      },
      "execution_count": null,
      "outputs": []
    },
    {
      "cell_type": "code",
      "source": [
        "if (-100 < NPS  <=  0): \n",
        "  print(\"Zona Crítica\")\n",
        "if (0 < NPS <= 50): \n",
        "  print(\"Zona de Aperfeiçoamento\")\n",
        "if (50 < NPS <= 75):\n",
        "  print(\"Zona de Qualidade\")\n",
        "if (75 < NPS <=100): \n",
        "  print(\"Zona de Excelência\")"
      ],
      "metadata": {
        "id": "MiTWPnStGANF"
      },
      "execution_count": null,
      "outputs": []
    },
    {
      "cell_type": "code",
      "source": [
        "import plotly.graph_objects as go\n",
        "\n",
        "fig = go.Figure()\n",
        "\n",
        "fig.add_trace(go.Indicator(\n",
        "    value = 100,\n",
        "    delta = {'reference': 100},\n",
        "    gauge = {\n",
        "        'axis': {'visible': False}},\n",
        "    domain = {'row': 0, 'column': 0}))\n",
        "\n",
        "fig.add_trace(go.Indicator(\n",
        "    value = 100,\n",
        "    gauge = {\n",
        "        'shape': \"bullet\",\n",
        "        'axis' : {'visible': False}},\n",
        "    domain = {'row': 0, 'column': 1}))\n",
        "\n",
        "fig.update_layout(\n",
        "    grid = {'rows': 1, 'columns': 2, 'pattern': \"independent\"},\n",
        "    template = {'data' : {'indicator': [{\n",
        "        'title': {'text': \"NPS\"},\n",
        "        'mode' : \"number+delta+gauge\",\n",
        "        'delta' : {'reference': 100}}]\n",
        "}})"
      ],
      "metadata": {
        "id": "x9w9-_THGYTO"
      },
      "execution_count": null,
      "outputs": []
    }
  ]
}